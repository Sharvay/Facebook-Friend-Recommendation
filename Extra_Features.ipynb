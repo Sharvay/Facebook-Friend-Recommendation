{
 "cells": [
  {
   "cell_type": "code",
   "execution_count": null,
   "id": "f3f543af",
   "metadata": {},
   "outputs": [],
   "source": []
  },
  {
   "cell_type": "code",
   "execution_count": null,
   "id": "84b8decc",
   "metadata": {},
   "outputs": [],
   "source": [
    "http://be.amazd.com/link-prediction/\n",
    "https://storage.googleapis.com/kaggle-forum-message-attachments/2594/supervised_link_prediction.pdf"
   ]
  },
  {
   "cell_type": "code",
   "execution_count": 19,
   "id": "993960ed",
   "metadata": {},
   "outputs": [],
   "source": [
    "\n",
    "import warnings\n",
    "warnings.filterwarnings(\"ignore\")\n",
    "\n",
    "import csv\n",
    "import pandas as pd\n",
    "import datetime \n",
    "import time \n",
    "\n",
    "import numpy as np\n",
    "import matplotlib\n",
    "import matplotlib.pylab as plt\n",
    "import seaborn as sns\n",
    "from matplotlib import rcParams \n",
    "from sklearn.cluster import MiniBatchKMeans, KMeans\n",
    "import math\n",
    "import pickle\n",
    "import os\n",
    "\n",
    "import xgboost as xgb\n",
    "\n",
    "import warnings\n",
    "import networkx as nx\n",
    "import pdb\n",
    "import pickle\n",
    "from pandas import HDFStore,DataFrame\n",
    "from pandas import read_hdf\n",
    "from scipy.sparse.linalg import svds, eigs\n",
    "import gc\n",
    "from tqdm import tqdm\n",
    "\n",
    "from sklearn.ensemble import RandomForestClassifier\n",
    "from sklearn.metrics import f1_score"
   ]
  },
  {
   "cell_type": "code",
   "execution_count": null,
   "id": "6e0fec7c",
   "metadata": {},
   "outputs": [],
   "source": []
  },
  {
   "cell_type": "code",
   "execution_count": 2,
   "id": "b34da1c8",
   "metadata": {},
   "outputs": [
    {
     "name": "stdout",
     "output_type": "stream",
     "text": [
      "Name: \n",
      "Type: DiGraph\n",
      "Number of nodes: 1780722\n",
      "Number of edges: 7550015\n",
      "Average in degree:   4.2399\n",
      "Average out degree:   4.2399\n"
     ]
    }
   ],
   "source": [
    "if os.path.isfile('data/after_eda/train_pos_after_eda.csv'):\n",
    "    train_graph=nx.read_edgelist('data/after_eda/train_pos_after_eda.csv',delimiter=',',create_using=nx.DiGraph(),nodetype=int)\n",
    "    print(nx.info(train_graph))\n",
    "else:\n",
    "    print(\"please run the FB_EDA.ipynb or download the files from drive\")"
   ]
  },
  {
   "cell_type": "code",
   "execution_count": null,
   "id": "9f3e5584",
   "metadata": {},
   "outputs": [],
   "source": []
  },
  {
   "cell_type": "markdown",
   "id": "0a1022dc",
   "metadata": {},
   "source": [
    "num_followers_d"
   ]
  },
  {
   "cell_type": "code",
   "execution_count": null,
   "id": "ad4784c5",
   "metadata": {},
   "outputs": [],
   "source": [
    "# Adding the feature num_followers_d ie.Number of followers for destination vertex"
   ]
  },
  {
   "cell_type": "code",
   "execution_count": 21,
   "id": "cd872b89",
   "metadata": {},
   "outputs": [],
   "source": [
    "def num_followers_for_d(df_final):\n",
    "    num_followers_d=[]\n",
    "    for i,row in df_final.iterrows():\n",
    "        try:\n",
    "            d=set(train_graph.predecessors(row['destination_node']))\n",
    "        except:\n",
    "            d=set()\n",
    "            \n",
    "        num_followers_d.append(len(d))\n",
    "\n",
    "    return  num_followers_d"
   ]
  },
  {
   "cell_type": "code",
   "execution_count": null,
   "id": "d53cff1c",
   "metadata": {},
   "outputs": [],
   "source": [
    "if not os.path.isfile('data/fea_sample/storage_sample_stage4.h5'):\n",
    "    \n",
    "    df_final_train['num_followers_d'] = num_followers_for_d(df_final_train)\n",
    "    df_final_test['num_followers_d'] = num_followers_for_d(df_final_test)\n",
    "    \n",
    "    hdf = HDFStore('data/fea_sample/storage_sample_stage4.h5')\n",
    "    hdf.put('train_df',df_final_train, format='table', data_columns=True)\n",
    "    hdf.put('test_df',df_final_test, format='table', data_columns=True)\n",
    "    hdf.close()\n",
    "    \n",
    "else:\n",
    "    df_final_train = read_hdf('data/fea_sample/storage_sample_stage4.h5', 'train_df',mode='r')\n",
    "    df_final_test = read_hdf('data/fea_sample/storage_sample_stage4.h5', 'test_df',mode='r')"
   ]
  },
  {
   "cell_type": "code",
   "execution_count": null,
   "id": "a6e42393",
   "metadata": {},
   "outputs": [],
   "source": []
  },
  {
   "cell_type": "markdown",
   "id": "222cebd2",
   "metadata": {},
   "source": [
    "Preferential Attachment "
   ]
  },
  {
   "cell_type": "code",
   "execution_count": 3,
   "id": "26a31ed5",
   "metadata": {},
   "outputs": [],
   "source": [
    "# Function to calculate preferential attachment for followers\n",
    "def preferential_attachment_followers(s,d):\n",
    "    try:\n",
    "        s1=set(train_graph.predecessors(s))\n",
    "        s2=set(train_graph.predecessors(d))\n",
    "    except:\n",
    "        return 0\n",
    "    pref_attach=(len(s1)*len(s2))\n",
    "        \n",
    "    return pref_attach\n",
    "\n",
    "\n",
    "\n",
    "# Function to calculate preferential attachment for followees\n",
    "def preferential_attachment_followees(s,d):\n",
    "    try:\n",
    "        s1=set(train_graph.successors(s))\n",
    "        s2=set(train_graph.successors(d))\n",
    "    except:\n",
    "        return 0\n",
    "    pref_attach=(len(s1)*len(s2))\n",
    "        \n",
    "    return pref_attach"
   ]
  },
  {
   "cell_type": "code",
   "execution_count": 4,
   "id": "3a6f1696",
   "metadata": {},
   "outputs": [],
   "source": [
    "if not os.path.isfile('data/fea_sample/storage_sample_stage4.h5'):\n",
    "\n",
    "    #mapping preferential_attachment_for_followers on train data\n",
    "    df_final_train['preferential_attachment_for_followers'] = df_final_train.apply(lambda row: preferential_attachment_followers(row['source_node'],row['destination_node']),axis=1)\n",
    "\n",
    "    #mapping preferential_attachment_for_followees on train data\n",
    "    df_final_train['preferential_attachment_for_followees'] = df_final_train.apply(lambda row: preferential_attachment_followees(row['source_node'],row['destination_node']),axis=1)\n",
    "\n",
    "\n",
    "    #mapping preferential_attachment_for_followers on test data\n",
    "    df_final_test['preferential_attachment_for_followers'] = df_final_test.apply(lambda row: preferential_attachment_followers(row['source_node'],row['destination_node']),axis=1)\n",
    "\n",
    "    #mapping preferential_attachment_for_followees on test data\n",
    "    df_final_test['preferential_attachment_for_followees'] = df_final_test.apply(lambda row: preferential_attachment_followees(row['source_node'],row['destination_node']),axis=1)\n",
    "\n",
    "\n",
    "    hdf = HDFStore('data/fea_sample/storage_sample_stage4.h5')\n",
    "    hdf.put('train_df',df_final_train, format='table', data_columns=True)\n",
    "    hdf.put('test_df',df_final_test, format='table', data_columns=True)\n",
    "    hdf.close()\n",
    "\n",
    "else:\n",
    "    df_final_train = read_hdf('data/fea_sample/storage_sample_stage4.h5', 'train_df',mode='r')\n",
    "    df_final_test = read_hdf('data/fea_sample/storage_sample_stage4.h5', 'test_df',mode='r')"
   ]
  },
  {
   "cell_type": "code",
   "execution_count": null,
   "id": "9d623177",
   "metadata": {},
   "outputs": [],
   "source": []
  },
  {
   "cell_type": "markdown",
   "id": "ae882d4f",
   "metadata": {},
   "source": [
    " SVD_Dot Feature"
   ]
  },
  {
   "cell_type": "code",
   "execution_count": 23,
   "id": "6cdf021a",
   "metadata": {},
   "outputs": [],
   "source": [
    "if not os.path.isfile('data/fea_sample/storage_sample_stage4.h5'):\n",
    "\n",
    "    # Svd_dot_u and svd_dot_v feature for train data\n",
    "    df_final_train['svd_dot_u']=(df_final_train['svd_u_s_1']*df_final_train['svd_u_d_1'])+(df_final_train['svd_u_s_2']*df_final_train['svd_u_d_2'])+(df_final_train['svd_u_s_3']*df_final_train['svd_u_d_3'])+(df_final_train['svd_u_s_4']*df_final_train['svd_u_d_4'])+(df_final_train['svd_u_s_5']*df_final_train['svd_u_d_5'])+(df_final_train['svd_u_s_6']*df_final_train['svd_u_d_6'])\n",
    "    df_final_train['svd_dot_v']= (df_final_train['svd_v_s_1']*df_final_train['svd_v_d_1'])+(df_final_train['svd_v_s_2']*df_final_train['svd_v_d_2'])+(df_final_train['svd_v_s_3']*df_final_train['svd_v_d_3'])+(df_final_train['svd_v_s_4']*df_final_train['svd_v_d_4'])+(df_final_train['svd_v_s_5']*df_final_train['svd_v_d_5'])+(df_final_train['svd_v_s_6']*df_final_train['svd_v_d_6'])\n",
    "\n",
    "   # Svd_dot_u and svd_dot_v feature for test data\n",
    "    df_final_test['svd_dot_u']=(df_final_test['svd_u_s_1']*df_final_test['svd_u_d_1'])+(df_final_test['svd_u_s_2']*df_final_test['svd_u_d_2'])+(df_final_test['svd_u_s_3']*df_final_test['svd_u_d_3'])+(df_final_test['svd_u_s_4']*df_final_test['svd_u_d_4'])+(df_final_test['svd_u_s_5']*df_final_test['svd_u_d_5'])+(df_final_test['svd_u_s_6']*df_final_test['svd_u_d_6'])\n",
    "    df_final_test['svd_dot_v']=(df_final_test['svd_v_s_1']*df_final_test['svd_v_d_1'])+(df_final_test['svd_v_s_2']*df_final_test['svd_v_d_2'])+(df_final_test['svd_v_s_3']*df_final_test['svd_v_d_3'])+(df_final_test['svd_v_s_4']*df_final_test['svd_v_d_4'])+(df_final_test['svd_v_s_5']*df_final_test['svd_v_d_5'])+(df_final_test['svd_v_s_6']*df_final_test['svd_v_d_6'])\n",
    "\n",
    "   \n",
    "    hdf = HDFStore('data/fea_sample/storage_sample_stage4.h5')\n",
    "    hdf.put('train_df',df_final_train, format='table', data_columns=True)\n",
    "    hdf.put('test_df',df_final_test, format='table', data_columns=True)\n",
    "    hdf.close()\n",
    "\n",
    "else:\n",
    "    df_final_train = read_hdf('data/fea_sample/storage_sample_stage4.h5', 'train_df',mode='r')\n",
    "    df_final_test = read_hdf('data/fea_sample/storage_sample_stage4.h5', 'test_df',mode='r')"
   ]
  },
  {
   "cell_type": "code",
   "execution_count": 29,
   "id": "e69fc83d",
   "metadata": {},
   "outputs": [
    {
     "data": {
      "text/html": [
       "<div>\n",
       "<style scoped>\n",
       "    .dataframe tbody tr th:only-of-type {\n",
       "        vertical-align: middle;\n",
       "    }\n",
       "\n",
       "    .dataframe tbody tr th {\n",
       "        vertical-align: top;\n",
       "    }\n",
       "\n",
       "    .dataframe thead th {\n",
       "        text-align: right;\n",
       "    }\n",
       "</style>\n",
       "<table border=\"1\" class=\"dataframe\">\n",
       "  <thead>\n",
       "    <tr style=\"text-align: right;\">\n",
       "      <th></th>\n",
       "      <th>source_node</th>\n",
       "      <th>destination_node</th>\n",
       "      <th>indicator_link</th>\n",
       "      <th>jaccard_followers</th>\n",
       "      <th>jaccard_followees</th>\n",
       "      <th>cosine_followers</th>\n",
       "      <th>cosine_followees</th>\n",
       "      <th>num_followers_s</th>\n",
       "      <th>num_followees_s</th>\n",
       "      <th>num_followees_d</th>\n",
       "      <th>...</th>\n",
       "      <th>svd_v_d_2</th>\n",
       "      <th>svd_v_d_3</th>\n",
       "      <th>svd_v_d_4</th>\n",
       "      <th>svd_v_d_5</th>\n",
       "      <th>svd_v_d_6</th>\n",
       "      <th>preferential_attachment_for_followers</th>\n",
       "      <th>preferential_attachment_for_followees</th>\n",
       "      <th>svd_dot_u</th>\n",
       "      <th>svd_dot_v</th>\n",
       "      <th>num_followers_d</th>\n",
       "    </tr>\n",
       "  </thead>\n",
       "  <tbody>\n",
       "    <tr>\n",
       "      <th>0</th>\n",
       "      <td>273084</td>\n",
       "      <td>1505602</td>\n",
       "      <td>1</td>\n",
       "      <td>0</td>\n",
       "      <td>0.000000</td>\n",
       "      <td>0.000000</td>\n",
       "      <td>0.000000</td>\n",
       "      <td>6</td>\n",
       "      <td>15</td>\n",
       "      <td>8</td>\n",
       "      <td>...</td>\n",
       "      <td>4.675307e-13</td>\n",
       "      <td>1.128591e-06</td>\n",
       "      <td>6.616550e-14</td>\n",
       "      <td>9.771077e-13</td>\n",
       "      <td>4.159752e-14</td>\n",
       "      <td>66</td>\n",
       "      <td>120</td>\n",
       "      <td>1.114958e-11</td>\n",
       "      <td>2.238775e-12</td>\n",
       "      <td>6</td>\n",
       "    </tr>\n",
       "    <tr>\n",
       "      <th>1</th>\n",
       "      <td>832016</td>\n",
       "      <td>1543415</td>\n",
       "      <td>1</td>\n",
       "      <td>0</td>\n",
       "      <td>0.187135</td>\n",
       "      <td>0.028382</td>\n",
       "      <td>0.343828</td>\n",
       "      <td>94</td>\n",
       "      <td>61</td>\n",
       "      <td>142</td>\n",
       "      <td>...</td>\n",
       "      <td>-1.636948e-10</td>\n",
       "      <td>-3.112650e-10</td>\n",
       "      <td>6.738902e-02</td>\n",
       "      <td>2.607801e-11</td>\n",
       "      <td>2.372904e-09</td>\n",
       "      <td>1598</td>\n",
       "      <td>8662</td>\n",
       "      <td>3.192812e-03</td>\n",
       "      <td>9.068719e-04</td>\n",
       "      <td>94</td>\n",
       "    </tr>\n",
       "    <tr>\n",
       "      <th>2</th>\n",
       "      <td>1325247</td>\n",
       "      <td>760242</td>\n",
       "      <td>1</td>\n",
       "      <td>0</td>\n",
       "      <td>0.369565</td>\n",
       "      <td>0.156957</td>\n",
       "      <td>0.566038</td>\n",
       "      <td>28</td>\n",
       "      <td>41</td>\n",
       "      <td>22</td>\n",
       "      <td>...</td>\n",
       "      <td>1.438175e-19</td>\n",
       "      <td>-1.852863e-19</td>\n",
       "      <td>-5.901864e-19</td>\n",
       "      <td>1.629341e-19</td>\n",
       "      <td>-2.572452e-19</td>\n",
       "      <td>980</td>\n",
       "      <td>902</td>\n",
       "      <td>1.787503e-35</td>\n",
       "      <td>2.467873e-36</td>\n",
       "      <td>28</td>\n",
       "    </tr>\n",
       "    <tr>\n",
       "      <th>3</th>\n",
       "      <td>1368400</td>\n",
       "      <td>1006992</td>\n",
       "      <td>1</td>\n",
       "      <td>0</td>\n",
       "      <td>0.000000</td>\n",
       "      <td>0.000000</td>\n",
       "      <td>0.000000</td>\n",
       "      <td>11</td>\n",
       "      <td>5</td>\n",
       "      <td>7</td>\n",
       "      <td>...</td>\n",
       "      <td>3.454672e-11</td>\n",
       "      <td>5.213635e-08</td>\n",
       "      <td>9.595823e-13</td>\n",
       "      <td>3.047045e-10</td>\n",
       "      <td>1.246592e-13</td>\n",
       "      <td>22</td>\n",
       "      <td>35</td>\n",
       "      <td>4.710376e-20</td>\n",
       "      <td>3.159386e-18</td>\n",
       "      <td>11</td>\n",
       "    </tr>\n",
       "    <tr>\n",
       "      <th>4</th>\n",
       "      <td>140165</td>\n",
       "      <td>1708748</td>\n",
       "      <td>1</td>\n",
       "      <td>0</td>\n",
       "      <td>0.000000</td>\n",
       "      <td>0.000000</td>\n",
       "      <td>0.000000</td>\n",
       "      <td>1</td>\n",
       "      <td>11</td>\n",
       "      <td>3</td>\n",
       "      <td>...</td>\n",
       "      <td>0.000000e+00</td>\n",
       "      <td>0.000000e+00</td>\n",
       "      <td>0.000000e+00</td>\n",
       "      <td>0.000000e+00</td>\n",
       "      <td>0.000000e+00</td>\n",
       "      <td>5</td>\n",
       "      <td>33</td>\n",
       "      <td>7.773952e-14</td>\n",
       "      <td>0.000000e+00</td>\n",
       "      <td>1</td>\n",
       "    </tr>\n",
       "  </tbody>\n",
       "</table>\n",
       "<p>5 rows × 59 columns</p>\n",
       "</div>"
      ],
      "text/plain": [
       "   source_node  destination_node  indicator_link  jaccard_followers  \\\n",
       "0       273084           1505602               1                  0   \n",
       "1       832016           1543415               1                  0   \n",
       "2      1325247            760242               1                  0   \n",
       "3      1368400           1006992               1                  0   \n",
       "4       140165           1708748               1                  0   \n",
       "\n",
       "   jaccard_followees  cosine_followers  cosine_followees  num_followers_s  \\\n",
       "0           0.000000          0.000000          0.000000                6   \n",
       "1           0.187135          0.028382          0.343828               94   \n",
       "2           0.369565          0.156957          0.566038               28   \n",
       "3           0.000000          0.000000          0.000000               11   \n",
       "4           0.000000          0.000000          0.000000                1   \n",
       "\n",
       "   num_followees_s  num_followees_d  ...     svd_v_d_2     svd_v_d_3  \\\n",
       "0               15                8  ...  4.675307e-13  1.128591e-06   \n",
       "1               61              142  ... -1.636948e-10 -3.112650e-10   \n",
       "2               41               22  ...  1.438175e-19 -1.852863e-19   \n",
       "3                5                7  ...  3.454672e-11  5.213635e-08   \n",
       "4               11                3  ...  0.000000e+00  0.000000e+00   \n",
       "\n",
       "      svd_v_d_4     svd_v_d_5     svd_v_d_6  \\\n",
       "0  6.616550e-14  9.771077e-13  4.159752e-14   \n",
       "1  6.738902e-02  2.607801e-11  2.372904e-09   \n",
       "2 -5.901864e-19  1.629341e-19 -2.572452e-19   \n",
       "3  9.595823e-13  3.047045e-10  1.246592e-13   \n",
       "4  0.000000e+00  0.000000e+00  0.000000e+00   \n",
       "\n",
       "   preferential_attachment_for_followers  \\\n",
       "0                                     66   \n",
       "1                                   1598   \n",
       "2                                    980   \n",
       "3                                     22   \n",
       "4                                      5   \n",
       "\n",
       "   preferential_attachment_for_followees     svd_dot_u     svd_dot_v  \\\n",
       "0                                    120  1.114958e-11  2.238775e-12   \n",
       "1                                   8662  3.192812e-03  9.068719e-04   \n",
       "2                                    902  1.787503e-35  2.467873e-36   \n",
       "3                                     35  4.710376e-20  3.159386e-18   \n",
       "4                                     33  7.773952e-14  0.000000e+00   \n",
       "\n",
       "   num_followers_d  \n",
       "0                6  \n",
       "1               94  \n",
       "2               28  \n",
       "3               11  \n",
       "4                1  \n",
       "\n",
       "[5 rows x 59 columns]"
      ]
     },
     "execution_count": 29,
     "metadata": {},
     "output_type": "execute_result"
    }
   ],
   "source": [
    "df_final_train.head()"
   ]
  },
  {
   "cell_type": "code",
   "execution_count": 28,
   "id": "4ecd8303",
   "metadata": {},
   "outputs": [
    {
     "data": {
      "text/plain": [
       "Index(['source_node', 'destination_node', 'indicator_link',\n",
       "       'jaccard_followers', 'jaccard_followees', 'cosine_followers',\n",
       "       'cosine_followees', 'num_followers_s', 'num_followees_s',\n",
       "       'num_followees_d', 'inter_followers', 'inter_followees', 'adar_index',\n",
       "       'follows_back', 'same_comp', 'shortest_path', 'weight_in', 'weight_out',\n",
       "       'weight_f1', 'weight_f2', 'weight_f3', 'weight_f4', 'page_rank_s',\n",
       "       'page_rank_d', 'katz_s', 'katz_d', 'hubs_s', 'hubs_d', 'authorities_s',\n",
       "       'authorities_d', 'svd_u_s_1', 'svd_u_s_2', 'svd_u_s_3', 'svd_u_s_4',\n",
       "       'svd_u_s_5', 'svd_u_s_6', 'svd_u_d_1', 'svd_u_d_2', 'svd_u_d_3',\n",
       "       'svd_u_d_4', 'svd_u_d_5', 'svd_u_d_6', 'svd_v_s_1', 'svd_v_s_2',\n",
       "       'svd_v_s_3', 'svd_v_s_4', 'svd_v_s_5', 'svd_v_s_6', 'svd_v_d_1',\n",
       "       'svd_v_d_2', 'svd_v_d_3', 'svd_v_d_4', 'svd_v_d_5', 'svd_v_d_6',\n",
       "       'preferential_attachment_for_followers',\n",
       "       'preferential_attachment_for_followees', 'svd_dot_u', 'svd_dot_v',\n",
       "       'num_followers_d'],\n",
       "      dtype='object')"
      ]
     },
     "execution_count": 28,
     "metadata": {},
     "output_type": "execute_result"
    }
   ],
   "source": [
    "df_final_train.columns"
   ]
  },
  {
   "cell_type": "code",
   "execution_count": null,
   "id": "9ed1cb16",
   "metadata": {},
   "outputs": [],
   "source": []
  },
  {
   "cell_type": "markdown",
   "id": "544bb591",
   "metadata": {},
   "source": [
    "Modelling"
   ]
  },
  {
   "cell_type": "code",
   "execution_count": 164,
   "id": "fb1a2d2c",
   "metadata": {},
   "outputs": [],
   "source": [
    "\n",
    "df_final_train = read_hdf('data/fea_sample/storage_sample_stage4.h5', 'train_df',mode='r')\n",
    "df_final_test = read_hdf('data/fea_sample/storage_sample_stage4.h5', 'test_df',mode='r')"
   ]
  },
  {
   "cell_type": "code",
   "execution_count": 165,
   "id": "5124d6db",
   "metadata": {},
   "outputs": [],
   "source": [
    "y_train = df_final_train.indicator_link\n",
    "y_test = df_final_test.indicator_link"
   ]
  },
  {
   "cell_type": "code",
   "execution_count": 166,
   "id": "98a7f99d",
   "metadata": {},
   "outputs": [],
   "source": [
    "df_final_train.drop(['source_node', 'destination_node','indicator_link'],axis=1,inplace=True)\n",
    "df_final_test.drop(['source_node', 'destination_node','indicator_link'],axis=1,inplace=True)"
   ]
  },
  {
   "cell_type": "code",
   "execution_count": 167,
   "id": "234020b0",
   "metadata": {},
   "outputs": [
    {
     "data": {
      "text/html": [
       "<div>\n",
       "<style scoped>\n",
       "    .dataframe tbody tr th:only-of-type {\n",
       "        vertical-align: middle;\n",
       "    }\n",
       "\n",
       "    .dataframe tbody tr th {\n",
       "        vertical-align: top;\n",
       "    }\n",
       "\n",
       "    .dataframe thead th {\n",
       "        text-align: right;\n",
       "    }\n",
       "</style>\n",
       "<table border=\"1\" class=\"dataframe\">\n",
       "  <thead>\n",
       "    <tr style=\"text-align: right;\">\n",
       "      <th></th>\n",
       "      <th>jaccard_followers</th>\n",
       "      <th>jaccard_followees</th>\n",
       "      <th>cosine_followers</th>\n",
       "      <th>cosine_followees</th>\n",
       "      <th>num_followers_s</th>\n",
       "      <th>num_followees_s</th>\n",
       "      <th>num_followees_d</th>\n",
       "      <th>inter_followers</th>\n",
       "      <th>inter_followees</th>\n",
       "      <th>adar_index</th>\n",
       "      <th>...</th>\n",
       "      <th>svd_v_d_2</th>\n",
       "      <th>svd_v_d_3</th>\n",
       "      <th>svd_v_d_4</th>\n",
       "      <th>svd_v_d_5</th>\n",
       "      <th>svd_v_d_6</th>\n",
       "      <th>preferential_attachment_for_followers</th>\n",
       "      <th>preferential_attachment_for_followees</th>\n",
       "      <th>svd_dot_u</th>\n",
       "      <th>svd_dot_v</th>\n",
       "      <th>num_followers_d</th>\n",
       "    </tr>\n",
       "  </thead>\n",
       "  <tbody>\n",
       "    <tr>\n",
       "      <th>0</th>\n",
       "      <td>0</td>\n",
       "      <td>0.000000</td>\n",
       "      <td>0.000000</td>\n",
       "      <td>0.000000</td>\n",
       "      <td>6</td>\n",
       "      <td>15</td>\n",
       "      <td>8</td>\n",
       "      <td>0</td>\n",
       "      <td>0</td>\n",
       "      <td>0.000000</td>\n",
       "      <td>...</td>\n",
       "      <td>4.675307e-13</td>\n",
       "      <td>1.128591e-06</td>\n",
       "      <td>6.616550e-14</td>\n",
       "      <td>9.771077e-13</td>\n",
       "      <td>4.159752e-14</td>\n",
       "      <td>66</td>\n",
       "      <td>120</td>\n",
       "      <td>1.114958e-11</td>\n",
       "      <td>2.238775e-12</td>\n",
       "      <td>6</td>\n",
       "    </tr>\n",
       "    <tr>\n",
       "      <th>1</th>\n",
       "      <td>0</td>\n",
       "      <td>0.187135</td>\n",
       "      <td>0.028382</td>\n",
       "      <td>0.343828</td>\n",
       "      <td>94</td>\n",
       "      <td>61</td>\n",
       "      <td>142</td>\n",
       "      <td>11</td>\n",
       "      <td>32</td>\n",
       "      <td>16.362912</td>\n",
       "      <td>...</td>\n",
       "      <td>-1.636948e-10</td>\n",
       "      <td>-3.112650e-10</td>\n",
       "      <td>6.738902e-02</td>\n",
       "      <td>2.607801e-11</td>\n",
       "      <td>2.372904e-09</td>\n",
       "      <td>1598</td>\n",
       "      <td>8662</td>\n",
       "      <td>3.192812e-03</td>\n",
       "      <td>9.068719e-04</td>\n",
       "      <td>94</td>\n",
       "    </tr>\n",
       "    <tr>\n",
       "      <th>2</th>\n",
       "      <td>0</td>\n",
       "      <td>0.369565</td>\n",
       "      <td>0.156957</td>\n",
       "      <td>0.566038</td>\n",
       "      <td>28</td>\n",
       "      <td>41</td>\n",
       "      <td>22</td>\n",
       "      <td>26</td>\n",
       "      <td>17</td>\n",
       "      <td>10.991826</td>\n",
       "      <td>...</td>\n",
       "      <td>1.438175e-19</td>\n",
       "      <td>-1.852863e-19</td>\n",
       "      <td>-5.901864e-19</td>\n",
       "      <td>1.629341e-19</td>\n",
       "      <td>-2.572452e-19</td>\n",
       "      <td>980</td>\n",
       "      <td>902</td>\n",
       "      <td>1.787503e-35</td>\n",
       "      <td>2.467873e-36</td>\n",
       "      <td>28</td>\n",
       "    </tr>\n",
       "    <tr>\n",
       "      <th>3</th>\n",
       "      <td>0</td>\n",
       "      <td>0.000000</td>\n",
       "      <td>0.000000</td>\n",
       "      <td>0.000000</td>\n",
       "      <td>11</td>\n",
       "      <td>5</td>\n",
       "      <td>7</td>\n",
       "      <td>0</td>\n",
       "      <td>0</td>\n",
       "      <td>0.000000</td>\n",
       "      <td>...</td>\n",
       "      <td>3.454672e-11</td>\n",
       "      <td>5.213635e-08</td>\n",
       "      <td>9.595823e-13</td>\n",
       "      <td>3.047045e-10</td>\n",
       "      <td>1.246592e-13</td>\n",
       "      <td>22</td>\n",
       "      <td>35</td>\n",
       "      <td>4.710376e-20</td>\n",
       "      <td>3.159386e-18</td>\n",
       "      <td>11</td>\n",
       "    </tr>\n",
       "    <tr>\n",
       "      <th>4</th>\n",
       "      <td>0</td>\n",
       "      <td>0.000000</td>\n",
       "      <td>0.000000</td>\n",
       "      <td>0.000000</td>\n",
       "      <td>1</td>\n",
       "      <td>11</td>\n",
       "      <td>3</td>\n",
       "      <td>0</td>\n",
       "      <td>0</td>\n",
       "      <td>0.000000</td>\n",
       "      <td>...</td>\n",
       "      <td>0.000000e+00</td>\n",
       "      <td>0.000000e+00</td>\n",
       "      <td>0.000000e+00</td>\n",
       "      <td>0.000000e+00</td>\n",
       "      <td>0.000000e+00</td>\n",
       "      <td>5</td>\n",
       "      <td>33</td>\n",
       "      <td>7.773952e-14</td>\n",
       "      <td>0.000000e+00</td>\n",
       "      <td>1</td>\n",
       "    </tr>\n",
       "    <tr>\n",
       "      <th>...</th>\n",
       "      <td>...</td>\n",
       "      <td>...</td>\n",
       "      <td>...</td>\n",
       "      <td>...</td>\n",
       "      <td>...</td>\n",
       "      <td>...</td>\n",
       "      <td>...</td>\n",
       "      <td>...</td>\n",
       "      <td>...</td>\n",
       "      <td>...</td>\n",
       "      <td>...</td>\n",
       "      <td>...</td>\n",
       "      <td>...</td>\n",
       "      <td>...</td>\n",
       "      <td>...</td>\n",
       "      <td>...</td>\n",
       "      <td>...</td>\n",
       "      <td>...</td>\n",
       "      <td>...</td>\n",
       "      <td>...</td>\n",
       "      <td>...</td>\n",
       "    </tr>\n",
       "    <tr>\n",
       "      <th>99997</th>\n",
       "      <td>0</td>\n",
       "      <td>0.000000</td>\n",
       "      <td>0.000000</td>\n",
       "      <td>0.000000</td>\n",
       "      <td>7</td>\n",
       "      <td>1</td>\n",
       "      <td>10</td>\n",
       "      <td>0</td>\n",
       "      <td>0</td>\n",
       "      <td>0.000000</td>\n",
       "      <td>...</td>\n",
       "      <td>1.538318e-13</td>\n",
       "      <td>1.296745e-06</td>\n",
       "      <td>2.990887e-13</td>\n",
       "      <td>1.589668e-12</td>\n",
       "      <td>7.338551e-14</td>\n",
       "      <td>0</td>\n",
       "      <td>10</td>\n",
       "      <td>-8.826350e-26</td>\n",
       "      <td>0.000000e+00</td>\n",
       "      <td>7</td>\n",
       "    </tr>\n",
       "    <tr>\n",
       "      <th>99998</th>\n",
       "      <td>0</td>\n",
       "      <td>0.000000</td>\n",
       "      <td>0.000000</td>\n",
       "      <td>0.000000</td>\n",
       "      <td>0</td>\n",
       "      <td>4</td>\n",
       "      <td>1</td>\n",
       "      <td>0</td>\n",
       "      <td>0</td>\n",
       "      <td>0.000000</td>\n",
       "      <td>...</td>\n",
       "      <td>0.000000e+00</td>\n",
       "      <td>0.000000e+00</td>\n",
       "      <td>0.000000e+00</td>\n",
       "      <td>0.000000e+00</td>\n",
       "      <td>0.000000e+00</td>\n",
       "      <td>0</td>\n",
       "      <td>4</td>\n",
       "      <td>1.428815e-31</td>\n",
       "      <td>0.000000e+00</td>\n",
       "      <td>0</td>\n",
       "    </tr>\n",
       "    <tr>\n",
       "      <th>99999</th>\n",
       "      <td>0</td>\n",
       "      <td>0.000000</td>\n",
       "      <td>0.000000</td>\n",
       "      <td>0.000000</td>\n",
       "      <td>0</td>\n",
       "      <td>5</td>\n",
       "      <td>1</td>\n",
       "      <td>0</td>\n",
       "      <td>0</td>\n",
       "      <td>0.000000</td>\n",
       "      <td>...</td>\n",
       "      <td>0.000000e+00</td>\n",
       "      <td>0.000000e+00</td>\n",
       "      <td>0.000000e+00</td>\n",
       "      <td>0.000000e+00</td>\n",
       "      <td>0.000000e+00</td>\n",
       "      <td>0</td>\n",
       "      <td>5</td>\n",
       "      <td>4.158491e-22</td>\n",
       "      <td>0.000000e+00</td>\n",
       "      <td>0</td>\n",
       "    </tr>\n",
       "    <tr>\n",
       "      <th>100000</th>\n",
       "      <td>0</td>\n",
       "      <td>0.000000</td>\n",
       "      <td>0.000000</td>\n",
       "      <td>0.000000</td>\n",
       "      <td>1</td>\n",
       "      <td>2</td>\n",
       "      <td>0</td>\n",
       "      <td>0</td>\n",
       "      <td>0</td>\n",
       "      <td>0.000000</td>\n",
       "      <td>...</td>\n",
       "      <td>5.200344e-17</td>\n",
       "      <td>3.858875e-15</td>\n",
       "      <td>2.173437e-17</td>\n",
       "      <td>2.241477e-16</td>\n",
       "      <td>3.528355e-20</td>\n",
       "      <td>1</td>\n",
       "      <td>0</td>\n",
       "      <td>4.300967e-30</td>\n",
       "      <td>6.252591e-26</td>\n",
       "      <td>1</td>\n",
       "    </tr>\n",
       "    <tr>\n",
       "      <th>100001</th>\n",
       "      <td>0</td>\n",
       "      <td>0.000000</td>\n",
       "      <td>0.000000</td>\n",
       "      <td>0.000000</td>\n",
       "      <td>1</td>\n",
       "      <td>14</td>\n",
       "      <td>0</td>\n",
       "      <td>0</td>\n",
       "      <td>0</td>\n",
       "      <td>0.000000</td>\n",
       "      <td>...</td>\n",
       "      <td>2.085059e-14</td>\n",
       "      <td>2.107704e-07</td>\n",
       "      <td>2.652994e-12</td>\n",
       "      <td>2.004727e-14</td>\n",
       "      <td>2.805020e-14</td>\n",
       "      <td>16</td>\n",
       "      <td>0</td>\n",
       "      <td>1.026399e-26</td>\n",
       "      <td>1.639391e-15</td>\n",
       "      <td>1</td>\n",
       "    </tr>\n",
       "  </tbody>\n",
       "</table>\n",
       "<p>100002 rows × 56 columns</p>\n",
       "</div>"
      ],
      "text/plain": [
       "        jaccard_followers  jaccard_followees  cosine_followers  \\\n",
       "0                       0           0.000000          0.000000   \n",
       "1                       0           0.187135          0.028382   \n",
       "2                       0           0.369565          0.156957   \n",
       "3                       0           0.000000          0.000000   \n",
       "4                       0           0.000000          0.000000   \n",
       "...                   ...                ...               ...   \n",
       "99997                   0           0.000000          0.000000   \n",
       "99998                   0           0.000000          0.000000   \n",
       "99999                   0           0.000000          0.000000   \n",
       "100000                  0           0.000000          0.000000   \n",
       "100001                  0           0.000000          0.000000   \n",
       "\n",
       "        cosine_followees  num_followers_s  num_followees_s  num_followees_d  \\\n",
       "0               0.000000                6               15                8   \n",
       "1               0.343828               94               61              142   \n",
       "2               0.566038               28               41               22   \n",
       "3               0.000000               11                5                7   \n",
       "4               0.000000                1               11                3   \n",
       "...                  ...              ...              ...              ...   \n",
       "99997           0.000000                7                1               10   \n",
       "99998           0.000000                0                4                1   \n",
       "99999           0.000000                0                5                1   \n",
       "100000          0.000000                1                2                0   \n",
       "100001          0.000000                1               14                0   \n",
       "\n",
       "        inter_followers  inter_followees  adar_index  ...     svd_v_d_2  \\\n",
       "0                     0                0    0.000000  ...  4.675307e-13   \n",
       "1                    11               32   16.362912  ... -1.636948e-10   \n",
       "2                    26               17   10.991826  ...  1.438175e-19   \n",
       "3                     0                0    0.000000  ...  3.454672e-11   \n",
       "4                     0                0    0.000000  ...  0.000000e+00   \n",
       "...                 ...              ...         ...  ...           ...   \n",
       "99997                 0                0    0.000000  ...  1.538318e-13   \n",
       "99998                 0                0    0.000000  ...  0.000000e+00   \n",
       "99999                 0                0    0.000000  ...  0.000000e+00   \n",
       "100000                0                0    0.000000  ...  5.200344e-17   \n",
       "100001                0                0    0.000000  ...  2.085059e-14   \n",
       "\n",
       "           svd_v_d_3     svd_v_d_4     svd_v_d_5     svd_v_d_6  \\\n",
       "0       1.128591e-06  6.616550e-14  9.771077e-13  4.159752e-14   \n",
       "1      -3.112650e-10  6.738902e-02  2.607801e-11  2.372904e-09   \n",
       "2      -1.852863e-19 -5.901864e-19  1.629341e-19 -2.572452e-19   \n",
       "3       5.213635e-08  9.595823e-13  3.047045e-10  1.246592e-13   \n",
       "4       0.000000e+00  0.000000e+00  0.000000e+00  0.000000e+00   \n",
       "...              ...           ...           ...           ...   \n",
       "99997   1.296745e-06  2.990887e-13  1.589668e-12  7.338551e-14   \n",
       "99998   0.000000e+00  0.000000e+00  0.000000e+00  0.000000e+00   \n",
       "99999   0.000000e+00  0.000000e+00  0.000000e+00  0.000000e+00   \n",
       "100000  3.858875e-15  2.173437e-17  2.241477e-16  3.528355e-20   \n",
       "100001  2.107704e-07  2.652994e-12  2.004727e-14  2.805020e-14   \n",
       "\n",
       "        preferential_attachment_for_followers  \\\n",
       "0                                          66   \n",
       "1                                        1598   \n",
       "2                                         980   \n",
       "3                                          22   \n",
       "4                                           5   \n",
       "...                                       ...   \n",
       "99997                                       0   \n",
       "99998                                       0   \n",
       "99999                                       0   \n",
       "100000                                      1   \n",
       "100001                                     16   \n",
       "\n",
       "        preferential_attachment_for_followees     svd_dot_u     svd_dot_v  \\\n",
       "0                                         120  1.114958e-11  2.238775e-12   \n",
       "1                                        8662  3.192812e-03  9.068719e-04   \n",
       "2                                         902  1.787503e-35  2.467873e-36   \n",
       "3                                          35  4.710376e-20  3.159386e-18   \n",
       "4                                          33  7.773952e-14  0.000000e+00   \n",
       "...                                       ...           ...           ...   \n",
       "99997                                      10 -8.826350e-26  0.000000e+00   \n",
       "99998                                       4  1.428815e-31  0.000000e+00   \n",
       "99999                                       5  4.158491e-22  0.000000e+00   \n",
       "100000                                      0  4.300967e-30  6.252591e-26   \n",
       "100001                                      0  1.026399e-26  1.639391e-15   \n",
       "\n",
       "        num_followers_d  \n",
       "0                     6  \n",
       "1                    94  \n",
       "2                    28  \n",
       "3                    11  \n",
       "4                     1  \n",
       "...                 ...  \n",
       "99997                 7  \n",
       "99998                 0  \n",
       "99999                 0  \n",
       "100000                1  \n",
       "100001                1  \n",
       "\n",
       "[100002 rows x 56 columns]"
      ]
     },
     "execution_count": 167,
     "metadata": {},
     "output_type": "execute_result"
    }
   ],
   "source": [
    "df_final_train"
   ]
  },
  {
   "cell_type": "code",
   "execution_count": 168,
   "id": "231ac9fd",
   "metadata": {},
   "outputs": [
    {
     "data": {
      "text/plain": [
       "0         1\n",
       "1         1\n",
       "2         1\n",
       "3         1\n",
       "4         1\n",
       "         ..\n",
       "99997     0\n",
       "99998     0\n",
       "99999     0\n",
       "100000    0\n",
       "100001    0\n",
       "Name: indicator_link, Length: 100002, dtype: int64"
      ]
     },
     "execution_count": 168,
     "metadata": {},
     "output_type": "execute_result"
    }
   ],
   "source": [
    "y_train"
   ]
  },
  {
   "cell_type": "code",
   "execution_count": null,
   "id": "afb74b48",
   "metadata": {},
   "outputs": [],
   "source": []
  },
  {
   "cell_type": "markdown",
   "id": "1ef3bfdb",
   "metadata": {},
   "source": [
    " Random forest"
   ]
  },
  {
   "cell_type": "code",
   "execution_count": null,
   "id": "bed8f4f1",
   "metadata": {},
   "outputs": [],
   "source": []
  },
  {
   "cell_type": "code",
   "execution_count": 108,
   "id": "84680552",
   "metadata": {},
   "outputs": [
    {
     "name": "stdout",
     "output_type": "stream",
     "text": [
      "Estimators =  10 Train Score 0.8867617497846272 test Score 0.8639396828148019\n",
      "Estimators =  50 Train Score 0.9198501092953054 test Score 0.9143884290611153\n",
      "Estimators =  100 Train Score 0.9202755291032817 test Score 0.8825452824506302\n",
      "Estimators =  250 Train Score 0.9198932465961928 test Score 0.8871912619900861\n",
      "Estimators =  450 Train Score 0.9206319411856718 test Score 0.8991008991008991\n"
     ]
    },
    {
     "data": {
      "text/plain": [
       "Text(0.5, 1.0, 'Estimators vs score at depth of 5')"
      ]
     },
     "execution_count": 108,
     "metadata": {},
     "output_type": "execute_result"
    },
    {
     "data": {
      "image/png": "[encoded data removed]",
      "text/plain": [
       "<Figure size 432x288 with 1 Axes>"
      ]
     },
     "metadata": {
      "needs_background": "light"
     },
     "output_type": "display_data"
    }
   ],
   "source": [
    "estimators = [10,50,100,250,450]\n",
    "train_scores = []\n",
    "test_scores = []\n",
    "for i in estimators:\n",
    "    clf = RandomForestClassifier(bootstrap=True, class_weight=None, criterion='gini',\n",
    "            max_depth=5, max_features='auto', max_leaf_nodes=None,\n",
    "            min_impurity_decrease=0.0, min_impurity_split=None,\n",
    "            min_samples_leaf=52, min_samples_split=120,\n",
    "            min_weight_fraction_leaf=0.0, n_estimators=i, n_jobs=-1,random_state=25,verbose=0,warm_start=False)\n",
    "    clf.fit(df_final_train,y_train)\n",
    "    train_sc = f1_score(y_train,clf.predict(df_final_train))\n",
    "    test_sc = f1_score(y_test,clf.predict(df_final_test))\n",
    "    test_scores.append(test_sc)\n",
    "    train_scores.append(train_sc)\n",
    "    print('Estimators = ',i,'Train Score',train_sc,'test Score',test_sc)\n",
    "plt.plot(estimators,train_scores,label='Train Score')\n",
    "plt.plot(estimators,test_scores,label='Test Score')\n",
    "plt.xlabel('Estimators')\n",
    "plt.ylabel('Score')\n",
    "plt.title('Estimators vs score at depth of 5')"
   ]
  },
  {
   "cell_type": "code",
   "execution_count": 111,
   "id": "500bf21f",
   "metadata": {},
   "outputs": [
    {
     "name": "stdout",
     "output_type": "stream",
     "text": [
      "depth =  3 Train Score 0.8651316830325595 test Score 0.8432880715022345\n",
      "depth =  9 Train Score 0.9585357425963942 test Score 0.9076676975578544\n",
      "depth =  11 Train Score 0.9608188912536739 test Score 0.9231253805934108\n",
      "depth =  15 Train Score 0.9640133291468738 test Score 0.9212842758533342\n",
      "depth =  20 Train Score 0.9658440954748478 test Score 0.9067151411462788\n",
      "depth =  35 Train Score 0.9658181818181819 test Score 0.9063788866331872\n",
      "depth =  50 Train Score 0.9658181818181819 test Score 0.9063788866331872\n",
      "depth =  70 Train Score 0.9658181818181819 test Score 0.9063788866331872\n",
      "depth =  130 Train Score 0.9658181818181819 test Score 0.9063788866331872\n"
     ]
    },
    {
     "data": {
      "image/png": "[encoded data removed]",
      "text/plain": [
       "<Figure size 432x288 with 1 Axes>"
      ]
     },
     "metadata": {
      "needs_background": "light"
     },
     "output_type": "display_data"
    }
   ],
   "source": [
    "depths = [3,9,11,15,20,35,50,70,130]\n",
    "train_scores = []\n",
    "test_scores = []\n",
    "for i in depths:\n",
    "    clf = RandomForestClassifier(bootstrap=True, class_weight=None, criterion='gini',\n",
    "            max_depth=i, max_features='auto', max_leaf_nodes=None,\n",
    "            min_impurity_decrease=0.0, min_impurity_split=None,\n",
    "            min_samples_leaf=52, min_samples_split=120,\n",
    "            min_weight_fraction_leaf=0.0, n_estimators=50, n_jobs=-1,random_state=25,verbose=0,warm_start=False)\n",
    "    clf.fit(df_final_train,y_train)\n",
    "    train_sc = f1_score(y_train,clf.predict(df_final_train))\n",
    "    test_sc = f1_score(y_test,clf.predict(df_final_test))\n",
    "    test_scores.append(test_sc)\n",
    "    train_scores.append(train_sc)\n",
    "    print('depth = ',i,'Train Score',train_sc,'test Score',test_sc)\n",
    "plt.plot(depths,train_scores,label='Train Score')\n",
    "plt.plot(depths,test_scores,label='Test Score')\n",
    "plt.xlabel('Depth')\n",
    "plt.ylabel('Score')\n",
    "plt.title('Depth vs score at depth of 5 at estimators = 50)\n",
    "plt.show()"
   ]
  },
  {
   "cell_type": "code",
   "execution_count": 113,
   "id": "cdde805f",
   "metadata": {},
   "outputs": [
    {
     "name": "stdout",
     "output_type": "stream",
     "text": [
      "mean test scores [0.96171936 0.96283605 0.96011604 0.9622274  0.96352589]\n",
      "mean train scores [0.96262837 0.96373152 0.96069507 0.96275266 0.96473447]\n"
     ]
    }
   ],
   "source": [
    "from sklearn.metrics import f1_score\n",
    "from sklearn.ensemble import RandomForestClassifier\n",
    "from sklearn.metrics import f1_score\n",
    "from sklearn.model_selection import RandomizedSearchCV\n",
    "from scipy.stats import randint as sp_randint\n",
    "from scipy.stats import uniform\n",
    "\n",
    "param_dist = {\"n_estimators\":sp_randint(50,110),\n",
    "              \"max_depth\": sp_randint(10,15),\n",
    "              \"min_samples_split\": sp_randint(110,190),\n",
    "              \"min_samples_leaf\": sp_randint(25,65)}\n",
    "\n",
    "clf = RandomForestClassifier(random_state=25,n_jobs=-1)\n",
    "\n",
    "rf_random = RandomizedSearchCV(clf, param_distributions=param_dist,\n",
    "                                   n_iter=5,cv=10,scoring='f1',random_state=25,return_train_score=True)\n",
    "\n",
    "rf_random.fit(df_final_train,y_train)\n",
    "print('mean test scores',rf_random.cv_results_['mean_test_score'])\n",
    "print('mean train scores',rf_random.cv_results_['mean_train_score'])"
   ]
  },
  {
   "cell_type": "code",
   "execution_count": 114,
   "id": "a6d2b247",
   "metadata": {},
   "outputs": [
    {
     "name": "stdout",
     "output_type": "stream",
     "text": [
      "RandomForestClassifier(max_depth=14, min_samples_leaf=28, min_samples_split=111,\n",
      "                       n_estimators=72, n_jobs=-1, random_state=25)\n"
     ]
    }
   ],
   "source": [
    "print(rf_random.best_estimator_)"
   ]
  },
  {
   "cell_type": "code",
   "execution_count": 117,
   "id": "5b122988",
   "metadata": {},
   "outputs": [],
   "source": [
    "clf =RandomForestClassifier(max_depth=14, min_samples_leaf=28, min_samples_split=111,\n",
    "                       n_estimators=72, n_jobs=-1, random_state=25)"
   ]
  },
  {
   "cell_type": "code",
   "execution_count": 118,
   "id": "5c25aa01",
   "metadata": {},
   "outputs": [],
   "source": [
    "clf.fit(df_final_train,y_train)\n",
    "y_train_pred = clf.predict(df_final_train)\n",
    "y_test_pred = clf.predict(df_final_test)"
   ]
  },
  {
   "cell_type": "code",
   "execution_count": 126,
   "id": "d868d178",
   "metadata": {},
   "outputs": [
    {
     "name": "stdout",
     "output_type": "stream",
     "text": [
      "Train f1 score 0.9647840935577693\n",
      "Test f1 score 0.91917631372881\n"
     ]
    }
   ],
   "source": [
    "from sklearn.metrics import f1_score\n",
    "\n",
    "tr_f1_rf=f1_score(y_train,y_train_pred)\n",
    "test_f1_rf=f1_score(y_test,y_test_pred)\n",
    "best_n_estimators_rf=clf.n_estimators\n",
    "best_depth_rf=clf.max_depth\n",
    "min_samples_split_rf=clf.min_samples_split\n",
    "min_samples_leaf_rf=clf.min_samples_leaf\n",
    "\n",
    "print('Train f1 score',f1_score(y_train,y_train_pred))\n",
    "print('Test f1 score',f1_score(y_test,y_test_pred))"
   ]
  },
  {
   "cell_type": "code",
   "execution_count": 120,
   "id": "69adb752",
   "metadata": {},
   "outputs": [],
   "source": [
    "from sklearn.metrics import confusion_matrix\n",
    "def plot_confusion_matrix(test_y, predict_y):\n",
    "    C = confusion_matrix(test_y, predict_y)\n",
    "    \n",
    "    A =(((C.T)/(C.sum(axis=1))).T)\n",
    "    \n",
    "    B =(C/C.sum(axis=0))\n",
    "    plt.figure(figsize=(20,4))\n",
    "    \n",
    "    labels = [0,1]\n",
    "    # representing A in heatmap format\n",
    "    cmap=sns.light_palette(\"blue\")\n",
    "    plt.subplot(1, 3, 1)\n",
    "    sns.heatmap(C, annot=True, cmap=cmap, fmt=\".3f\", xticklabels=labels, yticklabels=labels)\n",
    "    plt.xlabel('Predicted Class')\n",
    "    plt.ylabel('Original Class')\n",
    "    plt.title(\"Confusion matrix\")\n",
    "    \n",
    "    plt.subplot(1, 3, 2)\n",
    "    sns.heatmap(B, annot=True, cmap=cmap, fmt=\".3f\", xticklabels=labels, yticklabels=labels)\n",
    "    plt.xlabel('Predicted Class')\n",
    "    plt.ylabel('Original Class')\n",
    "    plt.title(\"Precision matrix\")\n",
    "    \n",
    "    plt.subplot(1, 3, 3)\n",
    "    # representing B in heatmap format\n",
    "    sns.heatmap(A, annot=True, cmap=cmap, fmt=\".3f\", xticklabels=labels, yticklabels=labels)\n",
    "    plt.xlabel('Predicted Class')\n",
    "    plt.ylabel('Original Class')\n",
    "    plt.title(\"Recall matrix\")\n",
    "    \n",
    "    plt.show()"
   ]
  },
  {
   "cell_type": "code",
   "execution_count": 121,
   "id": "81cfeebc",
   "metadata": {},
   "outputs": [
    {
     "name": "stdout",
     "output_type": "stream",
     "text": [
      "Train confusion_matrix\n"
     ]
    },
    {
     "data": {
      "image/png": "[encoded data removed]",
      "text/plain": [
       "<Figure size 1440x288 with 6 Axes>"
      ]
     },
     "metadata": {
      "needs_background": "light"
     },
     "output_type": "display_data"
    },
    {
     "name": "stdout",
     "output_type": "stream",
     "text": [
      "Test confusion_matrix\n"
     ]
    },
    {
     "data": {
      "image/png": "[encoded data removed]",
      "text/plain": [
       "<Figure size 1440x288 with 6 Axes>"
      ]
     },
     "metadata": {
      "needs_background": "light"
     },
     "output_type": "display_data"
    }
   ],
   "source": [
    "print('Train confusion_matrix')\n",
    "plot_confusion_matrix(y_train,y_train_pred)\n",
    "print('Test confusion_matrix')\n",
    "plot_confusion_matrix(y_test,y_test_pred)"
   ]
  },
  {
   "cell_type": "code",
   "execution_count": 122,
   "id": "946f6fcb",
   "metadata": {},
   "outputs": [
    {
     "data": {
      "image/png": "[encoded data removed]",
      "text/plain": [
       "<Figure size 432x288 with 1 Axes>"
      ]
     },
     "metadata": {
      "needs_background": "light"
     },
     "output_type": "display_data"
    }
   ],
   "source": [
    "from sklearn.metrics import roc_curve, auc\n",
    "fpr,tpr,ths = roc_curve(y_test,y_test_pred)\n",
    "auc_sc = auc(fpr, tpr)\n",
    "plt.plot(fpr, tpr, color='navy',label='ROC curve (area = %0.2f)' % auc_sc)\n",
    "plt.xlabel('False Positive Rate')\n",
    "plt.ylabel('True Positive Rate')\n",
    "plt.title('Receiver operating characteristic with test data')\n",
    "plt.legend()\n",
    "plt.show()"
   ]
  },
  {
   "cell_type": "code",
   "execution_count": 123,
   "id": "aa4ad00f",
   "metadata": {},
   "outputs": [
    {
     "data": {
      "image/png": "[encoded data removed]",
      "text/plain": [
       "<Figure size 720x864 with 1 Axes>"
      ]
     },
     "metadata": {
      "needs_background": "light"
     },
     "output_type": "display_data"
    }
   ],
   "source": [
    "features = df_final_train.columns\n",
    "importances = clf.feature_importances_\n",
    "indices = (np.argsort(importances))[-25:]\n",
    "plt.figure(figsize=(10,12))\n",
    "plt.title('Feature Importances')\n",
    "plt.barh(range(len(indices)), importances[indices], color='r', align='center')\n",
    "plt.yticks(range(len(indices)), [features[i] for i in indices])\n",
    "plt.xlabel('Relative Importance')\n",
    "plt.show()"
   ]
  },
  {
   "cell_type": "code",
   "execution_count": null,
   "id": "12cb79f9",
   "metadata": {},
   "outputs": [],
   "source": []
  },
  {
   "cell_type": "markdown",
   "id": "39863190",
   "metadata": {},
   "source": [
    "XGBoost"
   ]
  },
  {
   "cell_type": "code",
   "execution_count": null,
   "id": "fc6289d0",
   "metadata": {},
   "outputs": [],
   "source": []
  },
  {
   "cell_type": "code",
   "execution_count": 179,
   "id": "1f89b51c",
   "metadata": {},
   "outputs": [
    {
     "name": "stdout",
     "output_type": "stream",
     "text": [
      "Estimators =  10 Train Score 0.9568271354840023 test Score 0.8813092688895686\n",
      "Estimators =  50 Train Score 0.9791988373149241 test Score 0.900733134640068\n",
      "Estimators =  100 Train Score 0.9853276883315399 test Score 0.9112627251791747\n",
      "Estimators =  250 Train Score 0.9959668945087717 test Score 0.901685637327309\n",
      "Estimators =  450 Train Score 0.9993105446697109 test Score 0.8970841602512376\n"
     ]
    },
    {
     "data": {
      "text/plain": [
       "Text(0.5, 1.0, 'Estimators vs score at depth of 5')"
      ]
     },
     "execution_count": 179,
     "metadata": {},
     "output_type": "execute_result"
    },
    {
     "data": {
      "image/png": "[encoded data removed]",
      "text/plain": [
       "<Figure size 432x288 with 1 Axes>"
      ]
     },
     "metadata": {
      "needs_background": "light"
     },
     "output_type": "display_data"
    }
   ],
   "source": [
    "estimators = [10,50,100,250,450]\n",
    "train_scores = []\n",
    "test_scores = []\n",
    "for i in estimators:\n",
    "    clf = xgb.XGBClassifier(max_depth=5,n_estimators=i, n_jobs=-1,random_state=25,colsample_bytree = 0.3,alpha=5,\n",
    "                        eta = 0.3,verbosity=0)\n",
    "    clf.fit(df_final_train,y_train)\n",
    "    train_sc = f1_score(y_train,clf.predict(df_final_train))\n",
    "    test_sc = f1_score(y_test,clf.predict(df_final_test))\n",
    "    test_scores.append(test_sc)\n",
    "    train_scores.append(train_sc)\n",
    "    print('Estimators = ',i,'Train Score',train_sc,'test Score',test_sc)\n",
    "plt.plot(estimators,train_scores,label='Train Score')\n",
    "plt.plot(estimators,test_scores,label='Test Score')\n",
    "plt.xlabel('Estimators')\n",
    "plt.ylabel('Score')\n",
    "plt.title('Estimators vs score at depth of 5')"
   ]
  },
  {
   "cell_type": "code",
   "execution_count": 180,
   "id": "f138e133",
   "metadata": {},
   "outputs": [
    {
     "name": "stdout",
     "output_type": "stream",
     "text": [
      "depth =  3 Train Score 0.9783755966135559 test Score 0.8970405426035374\n",
      "depth =  9 Train Score 0.9983106588430511 test Score 0.9080122535272036\n",
      "depth =  11 Train Score 0.9993406066418895 test Score 0.9075253037529404\n",
      "depth =  15 Train Score 0.9997103099683339 test Score 0.9071057117579785\n",
      "depth =  20 Train Score 0.9997802461243407 test Score 0.907132083602672\n",
      "depth =  35 Train Score 0.999790241222594 test Score 0.9085820092150023\n",
      "depth =  50 Train Score 0.9998002237494007 test Score 0.906907554329079\n",
      "depth =  70 Train Score 0.9998002237494007 test Score 0.906907554329079\n",
      "depth =  130 Train Score 0.9998002237494007 test Score 0.906907554329079\n"
     ]
    },
    {
     "data": {
      "image/png": "[encoded data removed]",
      "text/plain": [
       "<Figure size 432x288 with 1 Axes>"
      ]
     },
     "metadata": {
      "needs_background": "light"
     },
     "output_type": "display_data"
    }
   ],
   "source": [
    "depths = [3,9,11,15,20,35,50,70,130]\n",
    "train_scores = []\n",
    "test_scores = []\n",
    "for i in depths:\n",
    "    clf = xgb.XGBClassifier(max_depth=i,n_estimators=105, n_jobs=-1,random_state=25,colsample_bytree = 0.3,alpha=5,\n",
    "                        eta = 0.3,verbosity=0)\n",
    "    clf.fit(df_final_train,y_train)\n",
    "    train_sc = f1_score(y_train,clf.predict(df_final_train))\n",
    "    test_sc = f1_score(y_test,clf.predict(df_final_test))\n",
    "    test_scores.append(test_sc)\n",
    "    train_scores.append(train_sc)\n",
    "    print('depth = ',i,'Train Score',train_sc,'test Score',test_sc)\n",
    "plt.plot(depths,train_scores,label='Train Score')\n",
    "plt.plot(depths,test_scores,label='Test Score')\n",
    "plt.xlabel('Depth')\n",
    "plt.ylabel('Score')\n",
    "plt.title('Depth vs score at estimators = 105')\n",
    "plt.show()"
   ]
  },
  {
   "cell_type": "code",
   "execution_count": null,
   "id": "a2c5efa1",
   "metadata": {},
   "outputs": [],
   "source": []
  },
  {
   "cell_type": "code",
   "execution_count": 169,
   "id": "a9182bb2",
   "metadata": {},
   "outputs": [
    {
     "name": "stdout",
     "output_type": "stream",
     "text": [
      "Fitting 10 folds for each of 5 candidates, totalling 50 fits\n",
      "[CV 1/10; 1/5] START alpha=0.001, eta=1, max_depth=12, n_estimators=115.........\n",
      "[CV 1/10; 1/5] END alpha=0.001, eta=1, max_depth=12, n_estimators=115; total time=  33.5s\n",
      "[CV 2/10; 1/5] START alpha=0.001, eta=1, max_depth=12, n_estimators=115.........\n",
      "[CV 2/10; 1/5] END alpha=0.001, eta=1, max_depth=12, n_estimators=115; total time=  39.3s\n",
      "[CV 3/10; 1/5] START alpha=0.001, eta=1, max_depth=12, n_estimators=115.........\n",
      "[CV 3/10; 1/5] END alpha=0.001, eta=1, max_depth=12, n_estimators=115; total time=  37.4s\n",
      "[CV 4/10; 1/5] START alpha=0.001, eta=1, max_depth=12, n_estimators=115.........\n",
      "[CV 4/10; 1/5] END alpha=0.001, eta=1, max_depth=12, n_estimators=115; total time=  37.4s\n",
      "[CV 5/10; 1/5] START alpha=0.001, eta=1, max_depth=12, n_estimators=115.........\n",
      "[CV 5/10; 1/5] END alpha=0.001, eta=1, max_depth=12, n_estimators=115; total time=  37.9s\n",
      "[CV 6/10; 1/5] START alpha=0.001, eta=1, max_depth=12, n_estimators=115.........\n",
      "[CV 6/10; 1/5] END alpha=0.001, eta=1, max_depth=12, n_estimators=115; total time=  36.7s\n",
      "[CV 7/10; 1/5] START alpha=0.001, eta=1, max_depth=12, n_estimators=115.........\n",
      "[CV 7/10; 1/5] END alpha=0.001, eta=1, max_depth=12, n_estimators=115; total time=  37.8s\n",
      "[CV 8/10; 1/5] START alpha=0.001, eta=1, max_depth=12, n_estimators=115.........\n",
      "[CV 8/10; 1/5] END alpha=0.001, eta=1, max_depth=12, n_estimators=115; total time=  39.4s\n",
      "[CV 9/10; 1/5] START alpha=0.001, eta=1, max_depth=12, n_estimators=115.........\n",
      "[CV 9/10; 1/5] END alpha=0.001, eta=1, max_depth=12, n_estimators=115; total time=  37.6s\n",
      "[CV 10/10; 1/5] START alpha=0.001, eta=1, max_depth=12, n_estimators=115........\n",
      "[CV 10/10; 1/5] END alpha=0.001, eta=1, max_depth=12, n_estimators=115; total time=  37.7s\n",
      "[CV 1/10; 2/5] START alpha=0.01, eta=1, max_depth=14, n_estimators=118..........\n",
      "[CV 1/10; 2/5] END alpha=0.01, eta=1, max_depth=14, n_estimators=118; total time=  39.0s\n",
      "[CV 2/10; 2/5] START alpha=0.01, eta=1, max_depth=14, n_estimators=118..........\n",
      "[CV 2/10; 2/5] END alpha=0.01, eta=1, max_depth=14, n_estimators=118; total time=  38.5s\n",
      "[CV 3/10; 2/5] START alpha=0.01, eta=1, max_depth=14, n_estimators=118..........\n",
      "[CV 3/10; 2/5] END alpha=0.01, eta=1, max_depth=14, n_estimators=118; total time=  38.2s\n",
      "[CV 4/10; 2/5] START alpha=0.01, eta=1, max_depth=14, n_estimators=118..........\n",
      "[CV 4/10; 2/5] END alpha=0.01, eta=1, max_depth=14, n_estimators=118; total time=  38.0s\n",
      "[CV 5/10; 2/5] START alpha=0.01, eta=1, max_depth=14, n_estimators=118..........\n",
      "[CV 5/10; 2/5] END alpha=0.01, eta=1, max_depth=14, n_estimators=118; total time=  38.3s\n",
      "[CV 6/10; 2/5] START alpha=0.01, eta=1, max_depth=14, n_estimators=118..........\n",
      "[CV 6/10; 2/5] END alpha=0.01, eta=1, max_depth=14, n_estimators=118; total time=  38.4s\n",
      "[CV 7/10; 2/5] START alpha=0.01, eta=1, max_depth=14, n_estimators=118..........\n",
      "[CV 7/10; 2/5] END alpha=0.01, eta=1, max_depth=14, n_estimators=118; total time=  38.7s\n",
      "[CV 8/10; 2/5] START alpha=0.01, eta=1, max_depth=14, n_estimators=118..........\n",
      "[CV 8/10; 2/5] END alpha=0.01, eta=1, max_depth=14, n_estimators=118; total time=  39.2s\n",
      "[CV 9/10; 2/5] START alpha=0.01, eta=1, max_depth=14, n_estimators=118..........\n",
      "[CV 9/10; 2/5] END alpha=0.01, eta=1, max_depth=14, n_estimators=118; total time=  37.9s\n",
      "[CV 10/10; 2/5] START alpha=0.01, eta=1, max_depth=14, n_estimators=118.........\n",
      "[CV 10/10; 2/5] END alpha=0.01, eta=1, max_depth=14, n_estimators=118; total time=  37.7s\n",
      "[CV 1/10; 3/5] START alpha=0.01, eta=0.02, max_depth=14, n_estimators=104.......\n",
      "[CV 1/10; 3/5] END alpha=0.01, eta=0.02, max_depth=14, n_estimators=104; total time=  48.1s\n",
      "[CV 2/10; 3/5] START alpha=0.01, eta=0.02, max_depth=14, n_estimators=104.......\n",
      "[CV 2/10; 3/5] END alpha=0.01, eta=0.02, max_depth=14, n_estimators=104; total time=  48.5s\n",
      "[CV 3/10; 3/5] START alpha=0.01, eta=0.02, max_depth=14, n_estimators=104.......\n",
      "[CV 3/10; 3/5] END alpha=0.01, eta=0.02, max_depth=14, n_estimators=104; total time=  50.0s\n",
      "[CV 4/10; 3/5] START alpha=0.01, eta=0.02, max_depth=14, n_estimators=104.......\n",
      "[CV 4/10; 3/5] END alpha=0.01, eta=0.02, max_depth=14, n_estimators=104; total time=  48.1s\n",
      "[CV 5/10; 3/5] START alpha=0.01, eta=0.02, max_depth=14, n_estimators=104.......\n",
      "[CV 5/10; 3/5] END alpha=0.01, eta=0.02, max_depth=14, n_estimators=104; total time=  47.8s\n",
      "[CV 6/10; 3/5] START alpha=0.01, eta=0.02, max_depth=14, n_estimators=104.......\n",
      "[CV 6/10; 3/5] END alpha=0.01, eta=0.02, max_depth=14, n_estimators=104; total time=  55.3s\n",
      "[CV 7/10; 3/5] START alpha=0.01, eta=0.02, max_depth=14, n_estimators=104.......\n",
      "[CV 7/10; 3/5] END alpha=0.01, eta=0.02, max_depth=14, n_estimators=104; total time=  48.2s\n",
      "[CV 8/10; 3/5] START alpha=0.01, eta=0.02, max_depth=14, n_estimators=104.......\n",
      "[CV 8/10; 3/5] END alpha=0.01, eta=0.02, max_depth=14, n_estimators=104; total time=  49.5s\n",
      "[CV 9/10; 3/5] START alpha=0.01, eta=0.02, max_depth=14, n_estimators=104.......\n",
      "[CV 9/10; 3/5] END alpha=0.01, eta=0.02, max_depth=14, n_estimators=104; total time=  49.1s\n",
      "[CV 10/10; 3/5] START alpha=0.01, eta=0.02, max_depth=14, n_estimators=104......\n",
      "[CV 10/10; 3/5] END alpha=0.01, eta=0.02, max_depth=14, n_estimators=104; total time=  55.9s\n",
      "[CV 1/10; 4/5] START alpha=0.01, eta=0.5, max_depth=14, n_estimators=105........\n",
      "[CV 1/10; 4/5] END alpha=0.01, eta=0.5, max_depth=14, n_estimators=105; total time=  42.4s\n",
      "[CV 2/10; 4/5] START alpha=0.01, eta=0.5, max_depth=14, n_estimators=105........\n",
      "[CV 2/10; 4/5] END alpha=0.01, eta=0.5, max_depth=14, n_estimators=105; total time=  42.6s\n",
      "[CV 3/10; 4/5] START alpha=0.01, eta=0.5, max_depth=14, n_estimators=105........\n",
      "[CV 3/10; 4/5] END alpha=0.01, eta=0.5, max_depth=14, n_estimators=105; total time=  42.7s\n",
      "[CV 4/10; 4/5] START alpha=0.01, eta=0.5, max_depth=14, n_estimators=105........\n",
      "[CV 4/10; 4/5] END alpha=0.01, eta=0.5, max_depth=14, n_estimators=105; total time=  42.6s\n",
      "[CV 5/10; 4/5] START alpha=0.01, eta=0.5, max_depth=14, n_estimators=105........\n",
      "[CV 5/10; 4/5] END alpha=0.01, eta=0.5, max_depth=14, n_estimators=105; total time=  43.3s\n",
      "[CV 6/10; 4/5] START alpha=0.01, eta=0.5, max_depth=14, n_estimators=105........\n",
      "[CV 6/10; 4/5] END alpha=0.01, eta=0.5, max_depth=14, n_estimators=105; total time=  43.2s\n",
      "[CV 7/10; 4/5] START alpha=0.01, eta=0.5, max_depth=14, n_estimators=105........\n",
      "[CV 7/10; 4/5] END alpha=0.01, eta=0.5, max_depth=14, n_estimators=105; total time=  43.3s\n",
      "[CV 8/10; 4/5] START alpha=0.01, eta=0.5, max_depth=14, n_estimators=105........\n",
      "[CV 8/10; 4/5] END alpha=0.01, eta=0.5, max_depth=14, n_estimators=105; total time=  44.8s\n",
      "[CV 9/10; 4/5] START alpha=0.01, eta=0.5, max_depth=14, n_estimators=105........\n",
      "[CV 9/10; 4/5] END alpha=0.01, eta=0.5, max_depth=14, n_estimators=105; total time=  43.1s\n",
      "[CV 10/10; 4/5] START alpha=0.01, eta=0.5, max_depth=14, n_estimators=105.......\n",
      "[CV 10/10; 4/5] END alpha=0.01, eta=0.5, max_depth=14, n_estimators=105; total time=  43.1s\n",
      "[CV 1/10; 5/5] START alpha=0.01, eta=0.2, max_depth=10, n_estimators=103........\n",
      "[CV 1/10; 5/5] END alpha=0.01, eta=0.2, max_depth=10, n_estimators=103; total time=  39.7s\n",
      "[CV 2/10; 5/5] START alpha=0.01, eta=0.2, max_depth=10, n_estimators=103........\n",
      "[CV 2/10; 5/5] END alpha=0.01, eta=0.2, max_depth=10, n_estimators=103; total time=  40.3s\n",
      "[CV 3/10; 5/5] START alpha=0.01, eta=0.2, max_depth=10, n_estimators=103........\n",
      "[CV 3/10; 5/5] END alpha=0.01, eta=0.2, max_depth=10, n_estimators=103; total time=  40.0s\n",
      "[CV 4/10; 5/5] START alpha=0.01, eta=0.2, max_depth=10, n_estimators=103........\n",
      "[CV 4/10; 5/5] END alpha=0.01, eta=0.2, max_depth=10, n_estimators=103; total time=  39.8s\n",
      "[CV 5/10; 5/5] START alpha=0.01, eta=0.2, max_depth=10, n_estimators=103........\n",
      "[CV 5/10; 5/5] END alpha=0.01, eta=0.2, max_depth=10, n_estimators=103; total time=  39.9s\n",
      "[CV 6/10; 5/5] START alpha=0.01, eta=0.2, max_depth=10, n_estimators=103........\n",
      "[CV 6/10; 5/5] END alpha=0.01, eta=0.2, max_depth=10, n_estimators=103; total time=  39.7s\n",
      "[CV 7/10; 5/5] START alpha=0.01, eta=0.2, max_depth=10, n_estimators=103........\n",
      "[CV 7/10; 5/5] END alpha=0.01, eta=0.2, max_depth=10, n_estimators=103; total time=  39.8s\n",
      "[CV 8/10; 5/5] START alpha=0.01, eta=0.2, max_depth=10, n_estimators=103........\n"
     ]
    },
    {
     "name": "stdout",
     "output_type": "stream",
     "text": [
      "[CV 8/10; 5/5] END alpha=0.01, eta=0.2, max_depth=10, n_estimators=103; total time=  41.5s\n",
      "[CV 9/10; 5/5] START alpha=0.01, eta=0.2, max_depth=10, n_estimators=103........\n",
      "[CV 9/10; 5/5] END alpha=0.01, eta=0.2, max_depth=10, n_estimators=103; total time=  40.4s\n",
      "[CV 10/10; 5/5] START alpha=0.01, eta=0.2, max_depth=10, n_estimators=103.......\n",
      "[CV 10/10; 5/5] END alpha=0.01, eta=0.2, max_depth=10, n_estimators=103; total time=  40.8s\n",
      "mean test scores [0.98047446 0.98031145 0.97620824 0.98099354 0.98165785]\n",
      "mean train scores [1.         1.         0.99078525 1.         0.999869  ]\n"
     ]
    }
   ],
   "source": [
    "from sklearn.model_selection import RandomizedSearchCV\n",
    "from sklearn.metrics import f1_score\n",
    "from scipy.stats import randint as sp_randint\n",
    "from scipy.stats import uniform\n",
    "\n",
    "clf_xgb = xgb.XGBClassifier(verbosity=0)\n",
    "\n",
    "\n",
    "parameters = {'n_estimators':sp_randint(100,120),\n",
    "             \"eta\"    : [0.02,0.05,0.1,0.20,0.30,0.5,1] ,\n",
    "             \"max_depth\" : sp_randint(10,15),\n",
    "            \"alpha\": [0.001,0.01,0.1,1.10]}\n",
    "# \"gamma\" : [0.1,0.5,1,5,10,25,50]\n",
    "\n",
    "\n",
    "xgb_clf = RandomizedSearchCV(clf_xgb, param_distributions=parameters,n_iter=5,cv=10,scoring='f1',\n",
    "                              random_state=25,verbose=10,return_train_score=True)\n",
    "\n",
    "xgb_clf.fit(df_final_train,y_train)\n",
    "print('mean test scores',xgb_clf.cv_results_['mean_test_score'])\n",
    "print('mean train scores',xgb_clf.cv_results_['mean_train_score'])"
   ]
  },
  {
   "cell_type": "code",
   "execution_count": 170,
   "id": "c3be1595",
   "metadata": {},
   "outputs": [
    {
     "name": "stdout",
     "output_type": "stream",
     "text": [
      "XGBClassifier(alpha=0.01, base_score=0.5, booster='gbtree', colsample_bylevel=1,\n",
      "              colsample_bynode=1, colsample_bytree=1, enable_categorical=False,\n",
      "              eta=0.2, gamma=0, gpu_id=-1, importance_type=None,\n",
      "              interaction_constraints='', learning_rate=0.200000003,\n",
      "              max_delta_step=0, max_depth=10, min_child_weight=1, missing=nan,\n",
      "              monotone_constraints='()', n_estimators=103, n_jobs=12,\n",
      "              num_parallel_tree=1, predictor='auto', random_state=0,\n",
      "              reg_alpha=0.00999999978, reg_lambda=1, scale_pos_weight=1,\n",
      "              subsample=1, tree_method='exact', validate_parameters=1,\n",
      "              verbosity=0)\n"
     ]
    }
   ],
   "source": [
    "print(xgb_clf.best_estimator_)"
   ]
  },
  {
   "cell_type": "code",
   "execution_count": 171,
   "id": "720f194d",
   "metadata": {},
   "outputs": [],
   "source": [
    "clf=xgb.XGBClassifier(alpha=0.01, base_score=0.5, booster='gbtree', colsample_bylevel=1,\n",
    "              colsample_bynode=1, colsample_bytree=1, enable_categorical=False,\n",
    "              eta=0.2, gamma=0, gpu_id=-1, importance_type=None,\n",
    "              interaction_constraints='', learning_rate=0.200000003,\n",
    "              max_delta_step=0, max_depth=10, min_child_weight=1, missing=nan,\n",
    "              monotone_constraints='()', n_estimators=103, n_jobs=12,\n",
    "              num_parallel_tree=1, predictor='auto', random_state=0,\n",
    "              reg_alpha=0.00999999978, reg_lambda=1, scale_pos_weight=1,\n",
    "              subsample=1, tree_method='exact', validate_parameters=1,\n",
    "              verbosity=0)"
   ]
  },
  {
   "cell_type": "code",
   "execution_count": 172,
   "id": "8f9534e7",
   "metadata": {},
   "outputs": [],
   "source": [
    "clf.fit(df_final_train,y_train)\n",
    "y_train_pred = clf.predict(df_final_train)\n",
    "y_test_pred = clf.predict(df_final_test)"
   ]
  },
  {
   "cell_type": "code",
   "execution_count": 173,
   "id": "4c01acca",
   "metadata": {},
   "outputs": [
    {
     "name": "stdout",
     "output_type": "stream",
     "text": [
      "Train f1 score 0.9997701769637379\n",
      "Test f1 score 0.9262129737764093\n"
     ]
    }
   ],
   "source": [
    "from sklearn.metrics import f1_score\n",
    "\n",
    "tr_f1_xgb=f1_score(y_train,y_train_pred)\n",
    "test_f1_xgb=f1_score(y_test,y_test_pred)\n",
    "best_n_estimators_xgb=clf.n_estimators\n",
    "best_depth_xgb=clf.max_depth\n",
    "\n",
    "print('Train f1 score',f1_score(y_train,y_train_pred))\n",
    "print('Test f1 score',f1_score(y_test,y_test_pred))"
   ]
  },
  {
   "cell_type": "code",
   "execution_count": 174,
   "id": "507841a1",
   "metadata": {},
   "outputs": [],
   "source": [
    "from sklearn.metrics import confusion_matrix\n",
    "def plot_confusion_matrix(test_y, predict_y):\n",
    "    C = confusion_matrix(test_y, predict_y)\n",
    "    \n",
    "    A =(((C.T)/(C.sum(axis=1))).T)\n",
    "    \n",
    "    B =(C/C.sum(axis=0))\n",
    "    plt.figure(figsize=(20,4))\n",
    "    \n",
    "    labels = [0,1]\n",
    "\n",
    "    cmap=sns.light_palette(\"blue\")\n",
    "    plt.subplot(1, 3, 1)\n",
    "    sns.heatmap(C, annot=True, cmap=cmap, fmt=\".3f\", xticklabels=labels, yticklabels=labels)\n",
    "    plt.xlabel('Predicted Class')\n",
    "    plt.ylabel('Original Class')\n",
    "    plt.title(\"Confusion matrix\")\n",
    "    \n",
    "    plt.subplot(1, 3, 2)\n",
    "    sns.heatmap(B, annot=True, cmap=cmap, fmt=\".3f\", xticklabels=labels, yticklabels=labels)\n",
    "    plt.xlabel('Predicted Class')\n",
    "    plt.ylabel('Original Class')\n",
    "    plt.title(\"Precision matrix\")\n",
    "    \n",
    "    plt.subplot(1, 3, 3)\n",
    "    \n",
    "    sns.heatmap(A, annot=True, cmap=cmap, fmt=\".3f\", xticklabels=labels, yticklabels=labels)\n",
    "    plt.xlabel('Predicted Class')\n",
    "    plt.ylabel('Original Class')\n",
    "    plt.title(\"Recall matrix\")\n",
    "    \n",
    "    plt.show()"
   ]
  },
  {
   "cell_type": "code",
   "execution_count": 175,
   "id": "cae272cb",
   "metadata": {},
   "outputs": [
    {
     "name": "stdout",
     "output_type": "stream",
     "text": [
      "Train confusion_matrix\n"
     ]
    },
    {
     "data": {
      "image/png": "[encoded data removed]",
      "text/plain": [
       "<Figure size 1440x288 with 6 Axes>"
      ]
     },
     "metadata": {
      "needs_background": "light"
     },
     "output_type": "display_data"
    },
    {
     "name": "stdout",
     "output_type": "stream",
     "text": [
      "Test confusion_matrix\n"
     ]
    },
    {
     "data": {
      "image/png": "[encoded data removed]",
      "text/plain": [
       "<Figure size 1440x288 with 6 Axes>"
      ]
     },
     "metadata": {
      "needs_background": "light"
     },
     "output_type": "display_data"
    }
   ],
   "source": [
    "print('Train confusion_matrix')\n",
    "plot_confusion_matrix(y_train,y_train_pred)\n",
    "print('Test confusion_matrix')\n",
    "plot_confusion_matrix(y_test,y_test_pred)"
   ]
  },
  {
   "cell_type": "code",
   "execution_count": 176,
   "id": "91c25010",
   "metadata": {},
   "outputs": [
    {
     "data": {
      "image/png": "[encoded data removed]",
      "text/plain": [
       "<Figure size 432x288 with 1 Axes>"
      ]
     },
     "metadata": {
      "needs_background": "light"
     },
     "output_type": "display_data"
    }
   ],
   "source": [
    "from sklearn.metrics import roc_curve, auc\n",
    "fpr,tpr,ths = roc_curve(y_test,y_test_pred)\n",
    "auc_sc = auc(fpr, tpr)\n",
    "plt.plot(fpr, tpr, color='navy',label='ROC curve (area = %0.2f)' % auc_sc)\n",
    "plt.xlabel('False Positive Rate')\n",
    "plt.ylabel('True Positive Rate')\n",
    "plt.title('Receiver operating characteristic with test data')\n",
    "plt.legend()\n",
    "plt.show()"
   ]
  },
  {
   "cell_type": "code",
   "execution_count": 177,
   "id": "fc24d0a7",
   "metadata": {},
   "outputs": [
    {
     "data": {
      "image/png": "[encoded data removed]",
      "text/plain": [
       "<Figure size 720x864 with 1 Axes>"
      ]
     },
     "metadata": {
      "needs_background": "light"
     },
     "output_type": "display_data"
    }
   ],
   "source": [
    "features = df_final_train.columns\n",
    "importances = clf.feature_importances_\n",
    "indices = (np.argsort(importances))[-25:]\n",
    "plt.figure(figsize=(10,12))\n",
    "plt.title('Feature Importances')\n",
    "plt.barh(range(len(indices)), importances[indices], color='r', align='center')\n",
    "plt.yticks(range(len(indices)), [features[i] for i in indices])\n",
    "plt.xlabel('Relative Importance')\n",
    "plt.show()"
   ]
  },
  {
   "cell_type": "code",
   "execution_count": null,
   "id": "6cdfa0be",
   "metadata": {},
   "outputs": [],
   "source": []
  },
  {
   "cell_type": "code",
   "execution_count": 92,
   "id": "66fe9570",
   "metadata": {},
   "outputs": [],
   "source": [
    "# feature_important = clf.get_booster().get_score(importance_type='weight')\n",
    "# values = list(feature_important.values())\n",
    "\n",
    "# data = pd.DataFrame(data=values, index=keys, columns=[\"score\"]).sort_values(by = \"score\", ascending=True)\n",
    "# data.nlargest(30, columns=\"score\").plot(kind='barh', figsize = (10,20)) ## plot top 30 features\n",
    "# plt.title('Feature Importances')"
   ]
  },
  {
   "cell_type": "code",
   "execution_count": 178,
   "id": "e59171b5",
   "metadata": {},
   "outputs": [
    {
     "name": "stdout",
     "output_type": "stream",
     "text": [
      "+---------------+-----------+--------------+--------------------+--------------------+\n",
      "|   Classifier  | max_depth | n_estimators |   Train F1 score   |   Test F1 score    |\n",
      "+---------------+-----------+--------------+--------------------+--------------------+\n",
      "| Random Forest |     14    |      72      | 0.9647840935577693 |  0.91917631372881  |\n",
      "|    XGBoost    |     10    |     103      | 0.9997701769637379 | 0.9262129737764093 |\n",
      "+---------------+-----------+--------------+--------------------+--------------------+\n"
     ]
    }
   ],
   "source": [
    "from prettytable import PrettyTable\n",
    "\n",
    "summary_table = PrettyTable([\"Classifier\", \"max_depth\",\"n_estimators\", \"Train F1 score\", \"Test F1 score\"])\n",
    "\n",
    "summary_table.add_row([\"Random Forest\", best_depth_rf,best_n_estimators_rf,tr_f1_rf, test_f1_rf])\n",
    "summary_table.add_row([\"XGBoost\", best_depth_xgb,best_n_estimators_xgb,tr_f1_xgb, test_f1_xgb])\n",
    "print(summary_table )"
   ]
  },
  {
   "cell_type": "code",
   "execution_count": null,
   "id": "22e46106",
   "metadata": {},
   "outputs": [],
   "source": []
  },
  {
   "cell_type": "markdown",
   "id": "590777b5",
   "metadata": {},
   "source": [
    "#### Conclusion\n",
    "\n",
    "- Initially we have data for time t in form of [source vertex,destination vertex] so using networkx package we created directed graph.\n",
    "\n",
    "\n",
    "- Then we did basic EDA based on features such as No. of followers for each person, No of people each person is following etc.\n",
    "\n",
    "\n",
    "- We find missing edges from graph ie. nodes that do not have edges between them and then do random train-test split as 80-20 split and create our dataset consisting on three columns as [source vertex,destination vertex,indicator link] where indicator_link=1 if edge is present between source vertex and destination vertex else 0.\n",
    "\n",
    "\n",
    "- We find out that our dataset has partial cold start problem as there are upto 7% of people which are not there in Train data \n",
    "   but exist in our Test data ie.we dont have any information about these nodes in train data to predict for them.\n",
    "   \n",
    "   \n",
    "- Then we do featurization and find various features based on similarity measures like jaccard and cosine distance, ranking measures like page-rank, graph based features like shortest path weakly connected components and checking if nodes belonging to same community, adar index , kartz centrality, HITS score etc. and various other features like number of followers,svd features,preferential attachment etc.\n",
    "\n",
    "\n",
    "- Networkx package makes the task of calculating these features easy due to various built-in functions to work with graphs.\n",
    "\n",
    "\n",
    "- We use F1-score and confusion matrix as our performance metric.\n",
    "\n",
    "\n",
    "- Then we train RandomForest and XGBoost models on train-data and perform hyper-parameter tuning and test the models on test-data and find most feature importance."
   ]
  },
  {
   "cell_type": "code",
   "execution_count": null,
   "id": "77a49e84",
   "metadata": {},
   "outputs": [],
   "source": []
  }
 ],
 "metadata": {
  "kernelspec": {
   "display_name": "Python 3",
   "language": "python",
   "name": "python3"
  },
  "language_info": {
   "codemirror_mode": {
    "name": "ipython",
    "version": 3
   },
   "file_extension": ".py",
   "mimetype": "text/x-python",
   "name": "python",
   "nbconvert_exporter": "python",
   "pygments_lexer": "ipython3",
   "version": "3.8.8"
  }
 },
 "nbformat": 4,
 "nbformat_minor": 5
}
